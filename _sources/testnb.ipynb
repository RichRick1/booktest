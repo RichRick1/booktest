{
 "cells": [
  {
   "cell_type": "markdown",
   "id": "4226b79c",
   "metadata": {},
   "source": [
    "## Finding the Root (Zero) of a Function\n",
    "\n",
    "Finding the root, or zero, of a function is a very common task in exploratory computing. This Notebook presents the Bisection method and Newton's method for finding the root, or 0, of a function. "
   ]
  },
  {
   "cell_type": "code",
   "execution_count": 9,
   "id": "ff2f5f1c",
   "metadata": {},
   "outputs": [
    {
     "data": {
      "application/vnd.jupyter.widget-view+json": {
       "model_id": "a855fdd80c264e95ad9240d9eed420e3",
       "version_major": 2,
       "version_minor": 0
      },
      "text/plain": [
       "VBox(children=(interactive(children=(IntSlider(value=5, description='mean', max=10), FloatSlider(value=1.0, de…"
      ]
     },
     "metadata": {},
     "output_type": "display_data"
    }
   ],
   "source": [
    "%matplotlib widget\n",
    "import ipywidgets as widgets\n",
    "import matplotlib.pyplot as plt\n",
    "import numpy as np\n",
    "import nbinteract as nbi\n",
    "\n",
    "x = np.linspace(0,10, 100)\n",
    "\n",
    "def sine_func(x, w, amp):\n",
    "    return amp*np.sin(w*x)\n",
    "\n",
    "# @widgets.interact(w=(0, 4, 0.01), amp=(0, 4, .1))\n",
    "# def update(w = 1, amp = 1):\n",
    "#     plt.clf()\n",
    "#     plt.ylim(-4, 4)\n",
    "#     plt.plot(x, sine_func(x, w, amp))\n",
    "def normal(mean, sd):\n",
    "    '''Returns 1000 points drawn at random fron N(mean, sd)'''\n",
    "    return np.random.normal(mean, sd, 10000)\n",
    "\n",
    "# Plot aesthetics\n",
    "options = {\n",
    "    'xlim': (-2, 12),\n",
    "    'ylim': (0, 0.7),\n",
    "    'bins': 100\n",
    "}\n",
    "\n",
    "# Pass in the `normal` function and let user change mean and sd.\n",
    "# Whenever the user interacts with the sliders, the `normal` function\n",
    "# is called and the returned data are plotted.\n",
    "nbi.hist(normal, mean=(0, 10), sd=(0, 2.0), options=options)"
   ]
  },
  {
   "cell_type": "code",
   "execution_count": 2,
   "id": "bdc31664",
   "metadata": {},
   "outputs": [
    {
     "data": {
      "text/plain": [
       "<matplotlib.pyplot._IonContext at 0x2af6c301630>"
      ]
     },
     "execution_count": 2,
     "metadata": {},
     "output_type": "execute_result"
    }
   ],
   "source": [
    "import numpy as np\n",
    "import matplotlib.pyplot as plt\n",
    "plt.ion()"
   ]
  },
  {
   "cell_type": "code",
   "execution_count": 12,
   "id": "34cd7cd7",
   "metadata": {},
   "outputs": [
    {
     "data": {
      "application/vnd.jupyter.widget-view+json": {
       "model_id": "625b9248258446ef86cb7ed965b4fb30",
       "version_major": 2,
       "version_minor": 0
      },
      "text/html": [
       "\n",
       "            <div style=\"display: inline-block;\">\n",
       "                <div class=\"jupyter-widgets widget-label\" style=\"text-align: center;\">\n",
       "                    Figure 1\n",
       "                </div>\n",
       "                <img src='data:image/png;base64,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' width=640.0/>\n",
       "            </div>\n",
       "        "
      ],
      "text/plain": [
       "Canvas(toolbar=Toolbar(toolitems=[('Home', 'Reset original view', 'home', 'home'), ('Back', 'Back to previous …"
      ]
     },
     "metadata": {},
     "output_type": "display_data"
    }
   ],
   "source": [
    "def f(x):\n",
    "    return x**3\n",
    "\n",
    "x = np.linspace(-2, 2, 100)\n",
    "y = f(x)\n",
    "plt.axhline(0, ls='--', c='r')\n",
    "plt.clf()\n",
    "plt.plot(x, y)\n",
    "plt.show()"
   ]
  },
  {
   "cell_type": "markdown",
   "id": "cb0eb16d",
   "metadata": {},
   "source": [
    "### Bisection method\n",
    "Given a continuous function $f(x)$ and two values of $x_1$, $x_2$ such that $f(x_1)$ and $f(x_2)$ have opposite signs the Bisection method is a root-finding method that repeatedly bisects the interval $[x_1, x_2]$ and then selects a subinterval (in which a root must be) for further processing. (Since $f(x_1)$ and $f(x_2)$ have opposite signs, it follows that $f(x)$ is zero somewhere between $x_1$ and $x_2$.) The Bisection method iterate towards the zero of the function by cutting the root search interval in half at every iteration. The method calculates the middle point $x_m$ between $x_1$ and $x_2$ and compute $f(x_m)$ and then replaces either $x_1$ or $x_2$ by $x_m$ such the values of $f$ at the end points of the interval are of opposite signs. The process is repeated until the interval is small enough that its middle point can be considered a good approximation of the root of the function. In summary, the algorithm works as follows:\n",
    "\n",
    "1. Compute $f(x_1)$ and $f(x_2)$ \n",
    "2. Compute $x_m = \\frac{1}{2}(x_1 + x_2)$.\n",
    "3. Compute $f(x_m)$.\n",
    "4. If $f(x_m)f(x_2) < 0$, replace $x_1$ by $x_m$, otherwise, replace $x_2$ by $x_m$.\n",
    "5. If $|x_1 - x_2|<\\varepsilon$, where $\\varepsilon$ is a user-specified tolerance, return $\\frac{1}{2}(x_1 + x_2)$, otherwise return to step 2."
   ]
  },
  {
   "cell_type": "code",
   "execution_count": null,
   "id": "300e759d",
   "metadata": {},
   "outputs": [],
   "source": [
    "def exponential_function(x):\n",
    "    return 0.5 - np.exp(-x)\n",
    "\n",
    "x = np.linspace(0, 4, 100)\n",
    "y = exponential_function(x)\n",
    "plt.plot(x, y)\n",
    "plt.axhline(0, color='r', ls='--')"
   ]
  },
  {
   "cell_type": "markdown",
   "id": "39f25819",
   "metadata": {},
   "source": [
    "### Implementation of the Bisection method\n",
    "We implement the bisection method as a function called `bisection` which takes as arguments:\n",
    "\n",
    "1. The function for which we want to find the root.\n",
    "2. $x_1$ and $x_2$\n",
    "3. The tolerance `tol` to be used as a stopping criterion (by default 0.001).\n",
    "4. The maximum number of iterations `nmax`. Make `nmax` a keyword argument with a default value of, for example, 10.\n",
    "\n",
    "Our function returns the value of $x$ where $f(x)$ is (approximately) zero, or print a warning if the maximum number of iterations is reached before the tolerance is met.\n",
    "\n",
    "Steps 2-5 of the algorithm explained above are implemented as a loop to be run until the tolerance level is met, at most `nmax` times. \n"
   ]
  },
  {
   "cell_type": "code",
   "execution_count": null,
   "id": "bc3a84f1",
   "metadata": {},
   "outputs": [],
   "source": [
    "def bisection(func, x1, x2, tol=1e-3, nmax=10, silent=True):\n",
    "    f1 = func(x1)\n",
    "    f2 = func(x2)\n",
    "    assert f1 * f2< 0, 'Error: zero not in interval x1-x2'\n",
    "    for i in range(nmax):\n",
    "        ### START CODE HERE\n",
    "        xm = 0.5*(x1+x2)\n",
    "        if func(xm)*f2<0:\n",
    "            x1 = xm\n",
    "        else:\n",
    "            x2=xm\n",
    "        f1 = func(x1)\n",
    "        f2 = func(x2)\n",
    "        \n",
    "        ### END CODE HERE\n",
    "        if abs(x1 - x2) < tol:\n",
    "            break\n",
    "    if abs(func(x1)) > tol:\n",
    "        print('Maximum number of iterations reached')\n",
    "    return x1"
   ]
  },
  {
   "cell_type": "code",
   "execution_count": null,
   "id": "02778f77",
   "metadata": {},
   "outputs": [],
   "source": [
    "x1 = 0 \n",
    "x2 = 1 \n",
    "function = exponential_function\n",
    "xzero = bisection(function, x1, x2, tol=1e-4, nmax=20, silent=True) \n",
    "print (\"The root of exponential_function between %.2f and %.2f is %f\" % (x1, x2, xzero))\n",
    "print (\"The value of the function at the 'root' is %f\" % exponential_function(xzero))"
   ]
  },
  {
   "cell_type": "markdown",
   "id": "fc4a9553",
   "metadata": {},
   "source": [
    "and of $cos$  between 0 and 3."
   ]
  },
  {
   "cell_type": "code",
   "execution_count": null,
   "id": "b6e9b42b",
   "metadata": {},
   "outputs": [],
   "source": [
    "x1 = 0 \n",
    "x2 = 3 \n",
    "function = np.cos\n",
    "root = bisection(function, 0, 3, tol=1e-6, nmax=30)\n",
    "print (\"The root of cos between %.2f and %.2f is %f\" % (x1, x2, root))"
   ]
  },
  {
   "cell_type": "markdown",
   "id": "9cc605ee",
   "metadata": {},
   "source": [
    "The Bisection method is a brute-force method guaranteed to find a root of a continuous function $f$ on an interval $(x_1,x_2)$, if $(x_1,x_2)$ contains a root for $f$. The Bisection method is not very efficient and it requires a search interval that contains only one root. \n",
    "\n",
    "An alternative is Newton's method (also called the Newton-Raphson method). Consider the graph below. To find the root of the function represented by the blue line, Newton's method starts at a user-defined starting location, $x_0$ (the blue dot) and fits a straight line through the point $(x,y)=(x_0,f(x_0))$ in such a way that the line is tangent to $f(x)$ at $x_0$ (the red line). The intersection of the red line with the horizontal axis is the next estimate $x_1$ of the root of the function (the red dot). This process is repeated until a value of $f(x)$ is found that is sufficiently close to zero (within a specified tolerance), i.e., a straight line is fitted through the point $(x,y)=(x_1,f(x_1))$, tangent to the function, and the the next estimate of the root of the function is taken as the intersection of this line with the horizontal axis, until the value of f at the root estimate is very close to 0.\n",
    "Unfortunately, not guaranteed that it always works, as is explained below. \n",
    "\n",
    "\n",
    "<img src=\"http://i.imgur.com/tK1EOtD.png\" alt=\"Newton's method on wikipedia\">\n",
    "\n",
    "The equation for a straight line with slope $a$ through the point $x_n,f(x_n)$ is:\n",
    "\n",
    "$$y = a(x-x_n) + f(x_n)$$\n",
    "\n",
    "For the line to be tangent to the function $f(x)$ at the point $x=x_n$, the slope $a$ has to equal the derivative of $f(x)$ at $x_n$: $a=f'(x_n)$. The intersection of the line with the horizontal axis is the value of $x$ that results in $y=0$ and this is the next estimate $x_{n+1}$ of the root of the function. In order to find this estimate we need to solve:\n",
    "\n",
    "$$0 = f'(x_n) (x_{n+1}-x_n) + f(x_n)$$\n",
    "\n",
    "which gives\n",
    "\n",
    "$$\\boxed{x_{n+1} = x_n - f(x_n)/f'(x_n)}$$\n",
    "\n",
    "The search for the root is completed when $|f(x)|$ is below a user-specified tolerance.\n",
    "\n",
    "An animated illustration of Newton's method can be found on <img src=\"http://upload.wikimedia.org/wikipedia/commons/e/e0/NewtonIteration_Ani.gif\" alt=\"Newton's method on wikipedia\" width=\"400px\">\n",
    "<!-- [Wikipedia](http://upload.wikimedia.org/wikipedia/commons/e/e0/NewtonIteration_Ani.gif) -->"
   ]
  },
  {
   "cell_type": "markdown",
   "id": "7283d576",
   "metadata": {},
   "source": [
    "Newton's method is guaranteed to find the root of a function if the function is *well behaved* and the search starts *close enough* to the root. If those two conditions are met, Newton's method is very fast, but if they are not met, the method is not guaranteed to converge to the root. \n",
    "\n",
    "Another disadvantage of Newton's method is that we need to define the derivative of the function. \n",
    "\n",
    "Note that the function value does not necessarily go down at every iteration (as illustated in the animation above)."
   ]
  },
  {
   "cell_type": "markdown",
   "id": "46086e10",
   "metadata": {},
   "source": [
    "### Newton's Method Implementation \n",
    "We implement Newton's method as function `newtonsmethod` that takes in the following arguments:\n",
    "\n",
    "1. The function for which to find the root.\n",
    "2. The derivative of the function.\n",
    "3. The starting point of the search $x_0$.\n",
    "4. The tolerance `tol` used as a stopping criterion, by default $10^{-6}$.\n",
    "5. The maximum number of iterations `nmax`, by default 10.\n",
    "\n",
    "`newtonsmethod` returns the value of $x$ where $f(x)$ is (approximately) zero or prints a message if the maximum number of iterations is reached before the tolerance is met. \n"
   ]
  },
  {
   "cell_type": "code",
   "execution_count": null,
   "id": "9265e0a2",
   "metadata": {},
   "outputs": [],
   "source": [
    "def newtonsmethod(func, funcp, xs, tol=1e-6, nmax=10, silent=True):\n",
    "    \n",
    "    f = func(xs)\n",
    "    fp = funcp(xs)\n",
    "    for i in range(nmax):\n",
    "        ### START CODE HERE\n",
    "        f = func(xs)\n",
    "        fp = funcp(xs)\n",
    "        xs -= f/fp\n",
    "        \n",
    "        ### END CODE HERE\n",
    "        if silent is False: print(xs, func(xs))\n",
    "        if abs(f) < tol: \n",
    "            return (xs,i+1)\n",
    "            break\n",
    "    if abs(f) > tol:\n",
    "        #print('Max number of iterations reached before convergence')\n",
    "        return (None, -1)"
   ]
  },
  {
   "cell_type": "markdown",
   "id": "7a776f83",
   "metadata": {},
   "source": [
    "We test `newtonsmethod` by finding the root of $f(x)=\\frac{1}{2}-\\text{e}^{-x}$ using $x_0=1$ as the starting point of the search. How many iterations do we need if we start at $x=4$?"
   ]
  },
  {
   "cell_type": "code",
   "execution_count": null,
   "id": "be01b2a2",
   "metadata": {},
   "outputs": [],
   "source": [
    "def fp(x):\n",
    "    return np.exp(-x)\n",
    "\n",
    "xs = 1\n",
    "func = exponential_function\n",
    "funcp = fp\n",
    "tol = 1e-6\n",
    "nmax = 10\n",
    "\n",
    "xzero, iterations = newtonsmethod(func, funcp, xs, tol, nmax)\n",
    "print(\"First Example\")\n",
    "if xzero != None:\n",
    "    print(\"Starting search from x = %.2f\" % xs)\n",
    "    print(\"root at x = %f, exponential_function(root) = %f\" % (xzero, exponential_function(xzero)))\n",
    "    print(\"tolerance reached in %d iterations\" % iterations)\n",
    "else: \n",
    "    print(\"Starting search from x = %.2f\" % xs)\n",
    "    print('Max number of iterations reached before convergence')\n",
    "\n",
    "print(\"\")\n",
    "\n",
    "   \n",
    "xs = 4\n",
    "nmax = 50\n",
    "\n",
    "xzero, iterations = newtonsmethod(func, funcp, xs, tol, nmax)\n",
    "\n",
    "print(\"Second Example\") \n",
    "if xzero != None:    \n",
    "    print(\"Starting search from x = %.2f\" % xs)\n",
    "    print(\"root at x = %f, exponential_function(root) = %f\" % (xzero, exponential_function(xzero)))\n",
    "    print(\"tolerance reached in %d iterations\" % iterations)\n",
    "else: \n",
    "    print(\"Starting search from x = %.2f\" % xs)\n",
    "    print('Max number of iterations reached before convergence')"
   ]
  }
 ],
 "metadata": {
  "kernelspec": {
   "display_name": "Python 3",
   "language": "python",
   "name": "python3"
  },
  "language_info": {
   "codemirror_mode": {
    "name": "ipython",
    "version": 3
   },
   "file_extension": ".py",
   "mimetype": "text/x-python",
   "name": "python",
   "nbconvert_exporter": "python",
   "pygments_lexer": "ipython3",
   "version": "3.7.3"
  },
  "widgets": {
   "application/vnd.jupyter.widget-state+json": {
    "state": {
     "0dfa2a1cc0814abbb1ef997bc5001adf": {
      "model_module": "@jupyter-widgets/base",
      "model_module_version": "1.2.0",
      "model_name": "LayoutModel",
      "state": {}
     },
     "13fa93589c7c44c581ec7566ff09cee7": {
      "model_module": "@jupyter-widgets/controls",
      "model_module_version": "1.5.0",
      "model_name": "FloatSliderModel",
      "state": {
       "description": "amp",
       "layout": "IPY_MODEL_b7bc14f4b3cc44a1b19914fe2d322ea7",
       "max": 4,
       "step": 0.1,
       "style": "IPY_MODEL_7e3f146d2bae4d2189397b72c4e4000b",
       "value": 1.8
      }
     },
     "1422ae40ebe1413d8b79e224c5116d76": {
      "model_module": "jupyter-matplotlib",
      "model_module_version": "^0.10.2",
      "model_name": "ToolbarModel",
      "state": {
       "layout": "IPY_MODEL_c697a05bcfb64e59ab55ee748538cfe9",
       "toolitems": [
        [
         "Home",
         "Reset original view",
         "home",
         "home"
        ],
        [
         "Back",
         "Back to previous view",
         "arrow-left",
         "back"
        ],
        [
         "Forward",
         "Forward to next view",
         "arrow-right",
         "forward"
        ],
        [
         "Pan",
         "Left button pans, Right button zooms\nx/y fixes axis, CTRL fixes aspect",
         "arrows",
         "pan"
        ],
        [
         "Zoom",
         "Zoom to rectangle\nx/y fixes axis, CTRL fixes aspect",
         "square-o",
         "zoom"
        ],
        [
         "Download",
         "Download plot",
         "floppy-o",
         "save_figure"
        ]
       ]
      }
     },
     "14f187021cdb43d6ab54f5241a0bdfcb": {
      "model_module": "@jupyter-widgets/controls",
      "model_module_version": "1.5.0",
      "model_name": "SliderStyleModel",
      "state": {
       "description_width": ""
      }
     },
     "18d284128155405cbdb2673d9e055eb0": {
      "model_module": "@jupyter-widgets/base",
      "model_module_version": "1.2.0",
      "model_name": "LayoutModel",
      "state": {}
     },
     "1916829b34de4e54b2fd5ae9dca3cbc4": {
      "model_module": "jupyter-matplotlib",
      "model_module_version": "^0.10.2",
      "model_name": "ToolbarModel",
      "state": {
       "layout": "IPY_MODEL_6ec71cf9821e46bc909a2675ec071318",
       "toolitems": [
        [
         "Home",
         "Reset original view",
         "home",
         "home"
        ],
        [
         "Back",
         "Back to previous view",
         "arrow-left",
         "back"
        ],
        [
         "Forward",
         "Forward to next view",
         "arrow-right",
         "forward"
        ],
        [
         "Pan",
         "Left button pans, Right button zooms\nx/y fixes axis, CTRL fixes aspect",
         "arrows",
         "pan"
        ],
        [
         "Zoom",
         "Zoom to rectangle\nx/y fixes axis, CTRL fixes aspect",
         "square-o",
         "zoom"
        ],
        [
         "Download",
         "Download plot",
         "floppy-o",
         "save_figure"
        ]
       ]
      }
     },
     "196f26c7bdbf4cd986aa5fb049fb2bcb": {
      "model_module": "@jupyter-widgets/base",
      "model_module_version": "1.2.0",
      "model_name": "LayoutModel",
      "state": {}
     },
     "205b859b429c4c47a3eb788e134f3c65": {
      "model_module": "@jupyter-widgets/controls",
      "model_module_version": "1.5.0",
      "model_name": "VBoxModel",
      "state": {
       "_dom_classes": [
        "widget-interact"
       ],
       "children": [
        "IPY_MODEL_e3b7efbb0806401b874200500dde9be1",
        "IPY_MODEL_d19969e25c3948479cacded401a41ad0",
        "IPY_MODEL_e2648edb65d140679ebcff0ad23651c5"
       ],
       "layout": "IPY_MODEL_0dfa2a1cc0814abbb1ef997bc5001adf"
      }
     },
     "233ca778e60847bb94b71acbfcdc600c": {
      "model_module": "@jupyter-widgets/controls",
      "model_module_version": "1.5.0",
      "model_name": "FloatSliderModel",
      "state": {
       "description": "w",
       "layout": "IPY_MODEL_bcd63b495dd644dfbc65e93870b246ba",
       "max": 4,
       "step": 0.25,
       "style": "IPY_MODEL_d20bce7c7cb44deebe7ce829af143dd1",
       "value": 1
      }
     },
     "23dcdbda8fc1444583ba8471f7a13dc7": {
      "model_module": "@jupyter-widgets/base",
      "model_module_version": "1.2.0",
      "model_name": "LayoutModel",
      "state": {}
     },
     "258763b935ad42f98d5e9b0ff5dfdfd8": {
      "model_module": "@jupyter-widgets/controls",
      "model_module_version": "1.5.0",
      "model_name": "SliderStyleModel",
      "state": {
       "description_width": ""
      }
     },
     "26ac0c5ba551475189a99d2980821c10": {
      "model_module": "@jupyter-widgets/output",
      "model_module_version": "1.0.0",
      "model_name": "OutputModel",
      "state": {
       "layout": "IPY_MODEL_9d1cf152c3ed4107b9e0e83fba93d184"
      }
     },
     "2777f420f5524aa1a202f7b61822da1d": {
      "model_module": "@jupyter-widgets/base",
      "model_module_version": "1.2.0",
      "model_name": "LayoutModel",
      "state": {}
     },
     "29e5a68ae9b04fbabba4adcd22ca0da9": {
      "model_module": "@jupyter-widgets/controls",
      "model_module_version": "1.5.0",
      "model_name": "SliderStyleModel",
      "state": {
       "description_width": ""
      }
     },
     "2a5bd01ac5a94206abd56ad84f579f26": {
      "model_module": "@jupyter-widgets/controls",
      "model_module_version": "1.5.0",
      "model_name": "VBoxModel",
      "state": {
       "_dom_classes": [
        "widget-interact"
       ],
       "children": [
        "IPY_MODEL_d0696ec7953f47ffb2f43b717e1b5e30",
        "IPY_MODEL_4d7526b66a8844a4b49a10783e669bfe",
        "IPY_MODEL_621f4bd04e3e42e78eb722511c94f99f"
       ],
       "layout": "IPY_MODEL_ebe3e072d5c447298cc05f5177425645"
      }
     },
     "2ca653ac9bd14aa392af88fe24032dfe": {
      "model_module": "@jupyter-widgets/base",
      "model_module_version": "1.2.0",
      "model_name": "LayoutModel",
      "state": {}
     },
     "33518dbbc891446584162c28f640a1e1": {
      "model_module": "@jupyter-widgets/base",
      "model_module_version": "1.2.0",
      "model_name": "LayoutModel",
      "state": {}
     },
     "34d8e959b4d145a7b66c4fad06d1f3fe": {
      "model_module": "@jupyter-widgets/output",
      "model_module_version": "1.0.0",
      "model_name": "OutputModel",
      "state": {
       "layout": "IPY_MODEL_836f3b96dd7f43fdaf44463a5e6a41b5"
      }
     },
     "360a66f337bb433bb1ed786f555f552e": {
      "model_module": "@jupyter-widgets/base",
      "model_module_version": "1.2.0",
      "model_name": "LayoutModel",
      "state": {}
     },
     "3b5b35a2c90c4d3d88ad3c913b8a7182": {
      "model_module": "@jupyter-widgets/controls",
      "model_module_version": "1.5.0",
      "model_name": "FloatSliderModel",
      "state": {
       "description": "amp",
       "layout": "IPY_MODEL_cc5e4c1442d446a7a10f9ed9fac17aa0",
       "max": 4,
       "step": 0.1,
       "style": "IPY_MODEL_14f187021cdb43d6ab54f5241a0bdfcb",
       "value": 1
      }
     },
     "422805e4668a4c2384eda77b64372a49": {
      "model_module": "@jupyter-widgets/base",
      "model_module_version": "1.2.0",
      "model_name": "LayoutModel",
      "state": {}
     },
     "44a3063af1834edb9e182b15dafbb8bc": {
      "model_module": "@jupyter-widgets/controls",
      "model_module_version": "1.5.0",
      "model_name": "VBoxModel",
      "state": {
       "_dom_classes": [
        "widget-interact"
       ],
       "children": [
        "IPY_MODEL_a194920dacb74167a2554fc552110109",
        "IPY_MODEL_e1fef17b372f4f6fa20259754c6065ce",
        "IPY_MODEL_6d5ac4ae7b9a4519a109090539659e42"
       ],
       "layout": "IPY_MODEL_6b5bee53fb1a4621a1e7e87cee592945"
      }
     },
     "4931bb7d5d994269948ef3777f5acdd7": {
      "model_module": "@jupyter-widgets/output",
      "model_module_version": "1.0.0",
      "model_name": "OutputModel",
      "state": {
       "layout": "IPY_MODEL_33518dbbc891446584162c28f640a1e1"
      }
     },
     "4b2f700f0a204c298094d7caac8a4018": {
      "model_module": "@jupyter-widgets/controls",
      "model_module_version": "1.5.0",
      "model_name": "SliderStyleModel",
      "state": {
       "description_width": ""
      }
     },
     "4d7526b66a8844a4b49a10783e669bfe": {
      "model_module": "@jupyter-widgets/controls",
      "model_module_version": "1.5.0",
      "model_name": "FloatSliderModel",
      "state": {
       "description": "amp",
       "layout": "IPY_MODEL_726a3abc18dc4aaea063f72e5d297bf2",
       "max": 4,
       "step": 0.1,
       "style": "IPY_MODEL_7a550023aa3b4d89a5712d7ac870f686",
       "value": 2.3
      }
     },
     "503ecfecb4fd46ad949d68665c559e79": {
      "model_module": "@jupyter-widgets/base",
      "model_module_version": "1.2.0",
      "model_name": "LayoutModel",
      "state": {}
     },
     "53d269c5304a4fb49bafc89ab9796a59": {
      "model_module": "@jupyter-widgets/controls",
      "model_module_version": "1.5.0",
      "model_name": "SliderStyleModel",
      "state": {
       "description_width": ""
      }
     },
     "548c6da96f8a42fbbd925986175f826a": {
      "model_module": "@jupyter-widgets/base",
      "model_module_version": "1.2.0",
      "model_name": "LayoutModel",
      "state": {}
     },
     "56a4140f9f404b5fb0f0721f89333350": {
      "model_module": "@jupyter-widgets/base",
      "model_module_version": "1.2.0",
      "model_name": "LayoutModel",
      "state": {}
     },
     "57a3c5c9ac4a4e7d95812fb7cb79ec13": {
      "model_module": "@jupyter-widgets/controls",
      "model_module_version": "1.5.0",
      "model_name": "SliderStyleModel",
      "state": {
       "description_width": ""
      }
     },
     "5859d164af5f49beb1db20f460f0c506": {
      "model_module": "jupyter-matplotlib",
      "model_module_version": "^0.10.2",
      "model_name": "ToolbarModel",
      "state": {
       "layout": "IPY_MODEL_196f26c7bdbf4cd986aa5fb049fb2bcb",
       "toolitems": [
        [
         "Home",
         "Reset original view",
         "home",
         "home"
        ],
        [
         "Back",
         "Back to previous view",
         "arrow-left",
         "back"
        ],
        [
         "Forward",
         "Forward to next view",
         "arrow-right",
         "forward"
        ],
        [
         "Pan",
         "Left button pans, Right button zooms\nx/y fixes axis, CTRL fixes aspect",
         "arrows",
         "pan"
        ],
        [
         "Zoom",
         "Zoom to rectangle\nx/y fixes axis, CTRL fixes aspect",
         "square-o",
         "zoom"
        ],
        [
         "Download",
         "Download plot",
         "floppy-o",
         "save_figure"
        ]
       ]
      }
     },
     "5af8bfd82ef14c23b119ed37184222d2": {
      "model_module": "@jupyter-widgets/base",
      "model_module_version": "1.2.0",
      "model_name": "LayoutModel",
      "state": {}
     },
     "5ccbf5ef23c247208dce057593075a40": {
      "model_module": "@jupyter-widgets/controls",
      "model_module_version": "1.5.0",
      "model_name": "FloatSliderModel",
      "state": {
       "description": "amp",
       "layout": "IPY_MODEL_56a4140f9f404b5fb0f0721f89333350",
       "max": 4,
       "step": 0.1,
       "style": "IPY_MODEL_258763b935ad42f98d5e9b0ff5dfdfd8",
       "value": 1
      }
     },
     "5cff93f9bf3a4512905e9f3f21715c16": {
      "model_module": "@jupyter-widgets/base",
      "model_module_version": "1.2.0",
      "model_name": "LayoutModel",
      "state": {}
     },
     "5d3494d04b01456abb524ce18fa06111": {
      "model_module": "@jupyter-widgets/output",
      "model_module_version": "1.0.0",
      "model_name": "OutputModel",
      "state": {
       "layout": "IPY_MODEL_2ca653ac9bd14aa392af88fe24032dfe"
      }
     },
     "5e72dc284048493aa901b7b221b498e4": {
      "model_module": "@jupyter-widgets/base",
      "model_module_version": "1.2.0",
      "model_name": "LayoutModel",
      "state": {}
     },
     "607da3d39397434a809533b98f1318c9": {
      "model_module": "@jupyter-widgets/controls",
      "model_module_version": "1.5.0",
      "model_name": "SliderStyleModel",
      "state": {
       "description_width": ""
      }
     },
     "621f4bd04e3e42e78eb722511c94f99f": {
      "model_module": "@jupyter-widgets/output",
      "model_module_version": "1.0.0",
      "model_name": "OutputModel",
      "state": {
       "layout": "IPY_MODEL_db4561b9c72646abab51fa9fe8a69abe"
      }
     },
     "65b75964b694479e9fdcc8258b9c9789": {
      "model_module": "@jupyter-widgets/controls",
      "model_module_version": "1.5.0",
      "model_name": "SliderStyleModel",
      "state": {
       "description_width": ""
      }
     },
     "677c6c42dbbd4bd79baefcda1f89d11e": {
      "model_module": "jupyter-matplotlib",
      "model_module_version": "^0.10.2",
      "model_name": "ToolbarModel",
      "state": {
       "layout": "IPY_MODEL_5e72dc284048493aa901b7b221b498e4",
       "toolitems": [
        [
         "Home",
         "Reset original view",
         "home",
         "home"
        ],
        [
         "Back",
         "Back to previous view",
         "arrow-left",
         "back"
        ],
        [
         "Forward",
         "Forward to next view",
         "arrow-right",
         "forward"
        ],
        [
         "Pan",
         "Left button pans, Right button zooms\nx/y fixes axis, CTRL fixes aspect",
         "arrows",
         "pan"
        ],
        [
         "Zoom",
         "Zoom to rectangle\nx/y fixes axis, CTRL fixes aspect",
         "square-o",
         "zoom"
        ],
        [
         "Download",
         "Download plot",
         "floppy-o",
         "save_figure"
        ]
       ]
      }
     },
     "698b5f893ebf4243938b6039454d37ce": {
      "model_module": "@jupyter-widgets/base",
      "model_module_version": "1.2.0",
      "model_name": "LayoutModel",
      "state": {}
     },
     "6b5bee53fb1a4621a1e7e87cee592945": {
      "model_module": "@jupyter-widgets/base",
      "model_module_version": "1.2.0",
      "model_name": "LayoutModel",
      "state": {}
     },
     "6c57e49e215345d8afe4a006601c279f": {
      "model_module": "@jupyter-widgets/base",
      "model_module_version": "1.2.0",
      "model_name": "LayoutModel",
      "state": {}
     },
     "6d5ac4ae7b9a4519a109090539659e42": {
      "model_module": "@jupyter-widgets/output",
      "model_module_version": "1.0.0",
      "model_name": "OutputModel",
      "state": {
       "layout": "IPY_MODEL_f81b1f42d8e842f8bb8a3b3e7c9d736b"
      }
     },
     "6ec71cf9821e46bc909a2675ec071318": {
      "model_module": "@jupyter-widgets/base",
      "model_module_version": "1.2.0",
      "model_name": "LayoutModel",
      "state": {}
     },
     "71ae63c9da1c4f87913d729f7df24dcf": {
      "model_module": "@jupyter-widgets/controls",
      "model_module_version": "1.5.0",
      "model_name": "SliderStyleModel",
      "state": {
       "description_width": ""
      }
     },
     "724fc69ae3cf407895c77a808712312e": {
      "model_module": "jupyter-matplotlib",
      "model_module_version": "^0.10.2",
      "model_name": "ToolbarModel",
      "state": {
       "layout": "IPY_MODEL_360a66f337bb433bb1ed786f555f552e",
       "toolitems": [
        [
         "Home",
         "Reset original view",
         "home",
         "home"
        ],
        [
         "Back",
         "Back to previous view",
         "arrow-left",
         "back"
        ],
        [
         "Forward",
         "Forward to next view",
         "arrow-right",
         "forward"
        ],
        [
         "Pan",
         "Left button pans, Right button zooms\nx/y fixes axis, CTRL fixes aspect",
         "arrows",
         "pan"
        ],
        [
         "Zoom",
         "Zoom to rectangle\nx/y fixes axis, CTRL fixes aspect",
         "square-o",
         "zoom"
        ],
        [
         "Download",
         "Download plot",
         "floppy-o",
         "save_figure"
        ]
       ]
      }
     },
     "726a3abc18dc4aaea063f72e5d297bf2": {
      "model_module": "@jupyter-widgets/base",
      "model_module_version": "1.2.0",
      "model_name": "LayoutModel",
      "state": {}
     },
     "7a550023aa3b4d89a5712d7ac870f686": {
      "model_module": "@jupyter-widgets/controls",
      "model_module_version": "1.5.0",
      "model_name": "SliderStyleModel",
      "state": {
       "description_width": ""
      }
     },
     "7b09f5ee21f9423c8bd6f04b5e0dc0b5": {
      "model_module": "@jupyter-widgets/controls",
      "model_module_version": "1.5.0",
      "model_name": "SliderStyleModel",
      "state": {
       "description_width": ""
      }
     },
     "7e3f146d2bae4d2189397b72c4e4000b": {
      "model_module": "@jupyter-widgets/controls",
      "model_module_version": "1.5.0",
      "model_name": "SliderStyleModel",
      "state": {
       "description_width": ""
      }
     },
     "7ed306407b164b988d8c42ffa2547ba4": {
      "model_module": "@jupyter-widgets/controls",
      "model_module_version": "1.5.0",
      "model_name": "VBoxModel",
      "state": {
       "_dom_classes": [
        "widget-interact"
       ],
       "children": [
        "IPY_MODEL_f14e7bb5a7ec41f7a85dbd22b1d16f9c",
        "IPY_MODEL_13fa93589c7c44c581ec7566ff09cee7",
        "IPY_MODEL_5d3494d04b01456abb524ce18fa06111"
       ],
       "layout": "IPY_MODEL_698b5f893ebf4243938b6039454d37ce"
      }
     },
     "836f3b96dd7f43fdaf44463a5e6a41b5": {
      "model_module": "@jupyter-widgets/base",
      "model_module_version": "1.2.0",
      "model_name": "LayoutModel",
      "state": {}
     },
     "852c4a22207b4d6d9274ba5bc28331b0": {
      "model_module": "@jupyter-widgets/base",
      "model_module_version": "1.2.0",
      "model_name": "LayoutModel",
      "state": {}
     },
     "872ae44a0f094d5189909be02a462ec2": {
      "model_module": "@jupyter-widgets/controls",
      "model_module_version": "1.5.0",
      "model_name": "FloatSliderModel",
      "state": {
       "description": "w",
       "layout": "IPY_MODEL_23dcdbda8fc1444583ba8471f7a13dc7",
       "max": 4,
       "step": 0.25,
       "style": "IPY_MODEL_57a3c5c9ac4a4e7d95812fb7cb79ec13",
       "value": 2.25
      }
     },
     "9696801da1b644d5936c51cb0de5ba50": {
      "model_module": "@jupyter-widgets/base",
      "model_module_version": "1.2.0",
      "model_name": "LayoutModel",
      "state": {}
     },
     "98b19015254f48c2b1865226d1b40c01": {
      "model_module": "@jupyter-widgets/base",
      "model_module_version": "1.2.0",
      "model_name": "LayoutModel",
      "state": {}
     },
     "9b659ecd22464d9c8cb60a509f5b3ae5": {
      "model_module": "@jupyter-widgets/controls",
      "model_module_version": "1.5.0",
      "model_name": "FloatSliderModel",
      "state": {
       "description": "w",
       "layout": "IPY_MODEL_422805e4668a4c2384eda77b64372a49",
       "max": 4,
       "step": 0.01,
       "style": "IPY_MODEL_71ae63c9da1c4f87913d729f7df24dcf",
       "value": 1
      }
     },
     "9d1cf152c3ed4107b9e0e83fba93d184": {
      "model_module": "@jupyter-widgets/base",
      "model_module_version": "1.2.0",
      "model_name": "LayoutModel",
      "state": {}
     },
     "9d372994f60a4c9f875f8cd8ba31793a": {
      "model_module": "@jupyter-widgets/base",
      "model_module_version": "1.2.0",
      "model_name": "LayoutModel",
      "state": {}
     },
     "a194920dacb74167a2554fc552110109": {
      "model_module": "@jupyter-widgets/controls",
      "model_module_version": "1.5.0",
      "model_name": "FloatSliderModel",
      "state": {
       "description": "w",
       "layout": "IPY_MODEL_852c4a22207b4d6d9274ba5bc28331b0",
       "max": 4,
       "step": 0.01,
       "style": "IPY_MODEL_4b2f700f0a204c298094d7caac8a4018",
       "value": 1.76
      }
     },
     "a5eff4ca61b0475bbdae5ac8c6c198e0": {
      "model_module": "@jupyter-widgets/base",
      "model_module_version": "1.2.0",
      "model_name": "LayoutModel",
      "state": {}
     },
     "a6c489481b0b41e29b6f3963a393b621": {
      "model_module": "jupyter-matplotlib",
      "model_module_version": "^0.10.2",
      "model_name": "ToolbarModel",
      "state": {
       "layout": "IPY_MODEL_faaf19682477472782663620efa60295",
       "toolitems": [
        [
         "Home",
         "Reset original view",
         "home",
         "home"
        ],
        [
         "Back",
         "Back to previous view",
         "arrow-left",
         "back"
        ],
        [
         "Forward",
         "Forward to next view",
         "arrow-right",
         "forward"
        ],
        [
         "Pan",
         "Left button pans, Right button zooms\nx/y fixes axis, CTRL fixes aspect",
         "arrows",
         "pan"
        ],
        [
         "Zoom",
         "Zoom to rectangle\nx/y fixes axis, CTRL fixes aspect",
         "square-o",
         "zoom"
        ],
        [
         "Download",
         "Download plot",
         "floppy-o",
         "save_figure"
        ]
       ]
      }
     },
     "b118369c88d148c2867135222d9cbb3b": {
      "model_module": "@jupyter-widgets/controls",
      "model_module_version": "1.5.0",
      "model_name": "VBoxModel",
      "state": {
       "_dom_classes": [
        "widget-interact"
       ],
       "children": [
        "IPY_MODEL_233ca778e60847bb94b71acbfcdc600c",
        "IPY_MODEL_5ccbf5ef23c247208dce057593075a40",
        "IPY_MODEL_34d8e959b4d145a7b66c4fad06d1f3fe"
       ],
       "layout": "IPY_MODEL_6c57e49e215345d8afe4a006601c279f"
      }
     },
     "b1ebd39941ec4458a55a0417c9d676d0": {
      "model_module": "@jupyter-widgets/base",
      "model_module_version": "1.2.0",
      "model_name": "LayoutModel",
      "state": {}
     },
     "b1f47e098e4c4e9ea0a04d4a1468191f": {
      "model_module": "jupyter-matplotlib",
      "model_module_version": "^0.10.2",
      "model_name": "ToolbarModel",
      "state": {
       "layout": "IPY_MODEL_b1ebd39941ec4458a55a0417c9d676d0",
       "toolitems": [
        [
         "Home",
         "Reset original view",
         "home",
         "home"
        ],
        [
         "Back",
         "Back to previous view",
         "arrow-left",
         "back"
        ],
        [
         "Forward",
         "Forward to next view",
         "arrow-right",
         "forward"
        ],
        [
         "Pan",
         "Left button pans, Right button zooms\nx/y fixes axis, CTRL fixes aspect",
         "arrows",
         "pan"
        ],
        [
         "Zoom",
         "Zoom to rectangle\nx/y fixes axis, CTRL fixes aspect",
         "square-o",
         "zoom"
        ],
        [
         "Download",
         "Download plot",
         "floppy-o",
         "save_figure"
        ]
       ]
      }
     },
     "b40086191d9c4bf6a608d3c4bc4a6cc0": {
      "model_module": "@jupyter-widgets/base",
      "model_module_version": "1.2.0",
      "model_name": "LayoutModel",
      "state": {}
     },
     "b7bc14f4b3cc44a1b19914fe2d322ea7": {
      "model_module": "@jupyter-widgets/base",
      "model_module_version": "1.2.0",
      "model_name": "LayoutModel",
      "state": {}
     },
     "bc10397b5f5f4a0a9f0a191aa92327aa": {
      "model_module": "@jupyter-widgets/controls",
      "model_module_version": "1.5.0",
      "model_name": "VBoxModel",
      "state": {
       "_dom_classes": [
        "widget-interact"
       ],
       "children": [
        "IPY_MODEL_9b659ecd22464d9c8cb60a509f5b3ae5",
        "IPY_MODEL_fe2314ed3e2b48c8a924485d8c626f4a",
        "IPY_MODEL_4931bb7d5d994269948ef3777f5acdd7"
       ],
       "layout": "IPY_MODEL_503ecfecb4fd46ad949d68665c559e79"
      }
     },
     "bc5c9307c0c24b3ebf312624aa7890b9": {
      "model_module": "@jupyter-widgets/base",
      "model_module_version": "1.2.0",
      "model_name": "LayoutModel",
      "state": {}
     },
     "bcd63b495dd644dfbc65e93870b246ba": {
      "model_module": "@jupyter-widgets/base",
      "model_module_version": "1.2.0",
      "model_name": "LayoutModel",
      "state": {}
     },
     "c697a05bcfb64e59ab55ee748538cfe9": {
      "model_module": "@jupyter-widgets/base",
      "model_module_version": "1.2.0",
      "model_name": "LayoutModel",
      "state": {}
     },
     "cc5e4c1442d446a7a10f9ed9fac17aa0": {
      "model_module": "@jupyter-widgets/base",
      "model_module_version": "1.2.0",
      "model_name": "LayoutModel",
      "state": {}
     },
     "d0696ec7953f47ffb2f43b717e1b5e30": {
      "model_module": "@jupyter-widgets/controls",
      "model_module_version": "1.5.0",
      "model_name": "FloatSliderModel",
      "state": {
       "description": "w",
       "layout": "IPY_MODEL_a5eff4ca61b0475bbdae5ac8c6c198e0",
       "max": 4,
       "step": 0.25,
       "style": "IPY_MODEL_7b09f5ee21f9423c8bd6f04b5e0dc0b5",
       "value": 1.25
      }
     },
     "d19969e25c3948479cacded401a41ad0": {
      "model_module": "@jupyter-widgets/controls",
      "model_module_version": "1.5.0",
      "model_name": "FloatSliderModel",
      "state": {
       "description": "amp",
       "layout": "IPY_MODEL_548c6da96f8a42fbbd925986175f826a",
       "max": 4,
       "step": 0.1,
       "style": "IPY_MODEL_53d269c5304a4fb49bafc89ab9796a59",
       "value": 1
      }
     },
     "d20bce7c7cb44deebe7ce829af143dd1": {
      "model_module": "@jupyter-widgets/controls",
      "model_module_version": "1.5.0",
      "model_name": "SliderStyleModel",
      "state": {
       "description_width": ""
      }
     },
     "db4561b9c72646abab51fa9fe8a69abe": {
      "model_module": "@jupyter-widgets/base",
      "model_module_version": "1.2.0",
      "model_name": "LayoutModel",
      "state": {}
     },
     "e1fef17b372f4f6fa20259754c6065ce": {
      "model_module": "@jupyter-widgets/controls",
      "model_module_version": "1.5.0",
      "model_name": "FloatSliderModel",
      "state": {
       "description": "amp",
       "layout": "IPY_MODEL_bc5c9307c0c24b3ebf312624aa7890b9",
       "max": 4,
       "step": 0.1,
       "style": "IPY_MODEL_65b75964b694479e9fdcc8258b9c9789",
       "value": 1.2
      }
     },
     "e2648edb65d140679ebcff0ad23651c5": {
      "model_module": "@jupyter-widgets/output",
      "model_module_version": "1.0.0",
      "model_name": "OutputModel",
      "state": {
       "layout": "IPY_MODEL_f4e16e6090c742aa965988d993b8b1dc"
      }
     },
     "e3b7efbb0806401b874200500dde9be1": {
      "model_module": "@jupyter-widgets/controls",
      "model_module_version": "1.5.0",
      "model_name": "FloatSliderModel",
      "state": {
       "description": "w",
       "layout": "IPY_MODEL_9696801da1b644d5936c51cb0de5ba50",
       "max": 4,
       "step": 0.1,
       "style": "IPY_MODEL_f794eca1c3fd4f979ef2033912581b68",
       "value": 2.9
      }
     },
     "e3db7579ca2f47bd8865254131a79372": {
      "model_module": "@jupyter-widgets/base",
      "model_module_version": "1.2.0",
      "model_name": "LayoutModel",
      "state": {}
     },
     "e926d1deb566413fa9645881701cd228": {
      "model_module": "jupyter-matplotlib",
      "model_module_version": "^0.10.2",
      "model_name": "MPLCanvasModel",
      "state": {
       "_data_url": "data:image/png;base64,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",
       "_figure_label": "Figure 1",
       "_height": 480,
       "_width": 640,
       "layout": "IPY_MODEL_9d372994f60a4c9f875f8cd8ba31793a",
       "toolbar": "IPY_MODEL_677c6c42dbbd4bd79baefcda1f89d11e",
       "toolbar_position": "left"
      }
     },
     "ebe3e072d5c447298cc05f5177425645": {
      "model_module": "@jupyter-widgets/base",
      "model_module_version": "1.2.0",
      "model_name": "LayoutModel",
      "state": {}
     },
     "efb448f899d4413289f3a58bd51fa6f5": {
      "model_module": "@jupyter-widgets/base",
      "model_module_version": "1.2.0",
      "model_name": "LayoutModel",
      "state": {}
     },
     "f14e7bb5a7ec41f7a85dbd22b1d16f9c": {
      "model_module": "@jupyter-widgets/controls",
      "model_module_version": "1.5.0",
      "model_name": "FloatSliderModel",
      "state": {
       "description": "w",
       "layout": "IPY_MODEL_efb448f899d4413289f3a58bd51fa6f5",
       "max": 4,
       "step": 0.25,
       "style": "IPY_MODEL_29e5a68ae9b04fbabba4adcd22ca0da9",
       "value": 1.25
      }
     },
     "f4e16e6090c742aa965988d993b8b1dc": {
      "model_module": "@jupyter-widgets/base",
      "model_module_version": "1.2.0",
      "model_name": "LayoutModel",
      "state": {}
     },
     "f794eca1c3fd4f979ef2033912581b68": {
      "model_module": "@jupyter-widgets/controls",
      "model_module_version": "1.5.0",
      "model_name": "SliderStyleModel",
      "state": {
       "description_width": ""
      }
     },
     "f81b1f42d8e842f8bb8a3b3e7c9d736b": {
      "model_module": "@jupyter-widgets/base",
      "model_module_version": "1.2.0",
      "model_name": "LayoutModel",
      "state": {}
     },
     "f974b9a935794b13ad44815a94ed9923": {
      "model_module": "@jupyter-widgets/base",
      "model_module_version": "1.2.0",
      "model_name": "LayoutModel",
      "state": {}
     },
     "faaf19682477472782663620efa60295": {
      "model_module": "@jupyter-widgets/base",
      "model_module_version": "1.2.0",
      "model_name": "LayoutModel",
      "state": {}
     },
     "fd2ad9a6993b4937b8d18b8ba5c11f3f": {
      "model_module": "@jupyter-widgets/controls",
      "model_module_version": "1.5.0",
      "model_name": "VBoxModel",
      "state": {
       "_dom_classes": [
        "widget-interact"
       ],
       "children": [
        "IPY_MODEL_872ae44a0f094d5189909be02a462ec2",
        "IPY_MODEL_3b5b35a2c90c4d3d88ad3c913b8a7182",
        "IPY_MODEL_26ac0c5ba551475189a99d2980821c10"
       ],
       "layout": "IPY_MODEL_2777f420f5524aa1a202f7b61822da1d"
      }
     },
     "fe2314ed3e2b48c8a924485d8c626f4a": {
      "model_module": "@jupyter-widgets/controls",
      "model_module_version": "1.5.0",
      "model_name": "FloatSliderModel",
      "state": {
       "description": "amp",
       "layout": "IPY_MODEL_5af8bfd82ef14c23b119ed37184222d2",
       "max": 4,
       "step": 0.1,
       "style": "IPY_MODEL_607da3d39397434a809533b98f1318c9",
       "value": 1
      }
     }
    },
    "version_major": 2,
    "version_minor": 0
   }
  }
 },
 "nbformat": 4,
 "nbformat_minor": 5
}
